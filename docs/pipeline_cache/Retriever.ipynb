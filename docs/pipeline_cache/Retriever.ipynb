{
 "cells": [
  {
   "cell_type": "code",
   "execution_count": 22,
   "metadata": {},
   "outputs": [],
   "source": [
    "# !pip install llama_index==0.11.4\n",
    "# !pip install PyYAML\n",
    "# !pip install plotly==5.24.0\n",
    "# !pip install docx2txt==0.8\n",
    "# !pip install chromadb==0.5.5\n",
    "# !pip install llama-index-vector-stores-chroma==0.2.0\n",
    "# !pip install llama-index-extractors-entity==0.2.0\n",
    "# !pip install llama-index-readers-web==0.2.2\n",
    "# !pip install transformers==4.40.2\n",
    "# !pip install nest_asyncio\n",
    "# !pip install chromadb\n"
   ]
  },
  {
   "cell_type": "code",
   "execution_count": 23,
   "metadata": {},
   "outputs": [],
   "source": [
    "from llama_index.core import Settings\n",
    "from llama_index.llms.openai import OpenAI\n",
    "import openai\n",
    "\n",
    "openai.api_key = \"sk-proj-your-openai-api-key\"\n",
    "Settings.llm = OpenAI(model=\"gpt-4o-mini\", temperature=0.2)"
   ]
  },
  {
   "cell_type": "code",
   "execution_count": 25,
   "metadata": {},
   "outputs": [
    {
     "name": "stderr",
     "output_type": "stream",
     "text": [
      "100%|██████████| 2/2 [00:00<00:00,  2.09it/s]\n",
      "100%|██████████| 1/1 [00:00<00:00,  1.17it/s]\n"
     ]
    },
    {
     "ename": "TypeError",
     "evalue": "Collection.query() got an unexpected keyword argument 'embedding'",
     "output_type": "error",
     "traceback": [
      "\u001b[1;31m---------------------------------------------------------------------------\u001b[0m",
      "\u001b[1;31mTypeError\u001b[0m                                 Traceback (most recent call last)",
      "Cell \u001b[1;32mIn[25], line 56\u001b[0m\n\u001b[0;32m     54\u001b[0m query_text \u001b[38;5;241m=\u001b[39m \u001b[38;5;124m\"\u001b[39m\u001b[38;5;124mEffects of hydrochloric acid on human tissue\u001b[39m\u001b[38;5;124m\"\u001b[39m\n\u001b[0;32m     55\u001b[0m query_embedding \u001b[38;5;241m=\u001b[39m generate_query_embedding(query_text)\n\u001b[1;32m---> 56\u001b[0m results \u001b[38;5;241m=\u001b[39m \u001b[43mcollection\u001b[49m\u001b[38;5;241;43m.\u001b[39;49m\u001b[43mquery\u001b[49m\u001b[43m(\u001b[49m\u001b[43membedding\u001b[49m\u001b[38;5;241;43m=\u001b[39;49m\u001b[43mquery_embedding\u001b[49m\u001b[43m,\u001b[49m\u001b[43m \u001b[49m\u001b[43mtop_k\u001b[49m\u001b[38;5;241;43m=\u001b[39;49m\u001b[38;5;241;43m2\u001b[39;49m\u001b[43m)\u001b[49m\n\u001b[0;32m     58\u001b[0m \u001b[38;5;66;03m# Display retrieved results\u001b[39;00m\n\u001b[0;32m     59\u001b[0m \u001b[38;5;28;01mfor\u001b[39;00m result \u001b[38;5;129;01min\u001b[39;00m results[\u001b[38;5;124m'\u001b[39m\u001b[38;5;124mdocuments\u001b[39m\u001b[38;5;124m'\u001b[39m]:\n",
      "\u001b[1;31mTypeError\u001b[0m: Collection.query() got an unexpected keyword argument 'embedding'"
     ]
    }
   ],
   "source": [
    "import chromadb\n",
    "import uuid\n",
    "import nest_asyncio\n",
    "from llama_index.core import Document\n",
    "from llama_index.embeddings.openai import OpenAIEmbedding\n",
    "from llama_index.core.node_parser import SentenceSplitter\n",
    "from llama_index.core.extractors import TitleExtractor\n",
    "from llama_index.core.ingestion import IngestionPipeline\n",
    "from llama_index.core.postprocessor import SimilarityPostprocessor\n",
    "from llama_index.core.query_engine import RetrieverQueryEngine\n",
    "from llama_index.core import get_response_synthesizer\n",
    "\n",
    "# Ensure nest_asyncio is applied to handle async operations in certain environments like Jupyter\n",
    "nest_asyncio.apply()\n",
    "\n",
    "# Initialize Chroma client and create a collection (use get_or_create to avoid duplication errors)\n",
    "chroma_client = chromadb.Client()\n",
    "collection = chroma_client.create_collection(\"documents\", get_or_create=True)\n",
    "\n",
    "# Define the document text\n",
    "text = \"\"\"Cats are cute.\n",
    "          The most concentrated hydrochloric acid has a maximum concentration of 40%.\n",
    "          In its concentrated form, this acid can produce acid mists, all of which are corrosive to human tissue, \n",
    "          causing damage to the respiratory system, eyes, skin, and itching.\"\"\"\n",
    "doc = Document(text=text)\n",
    "\n",
    "# Create the pipeline with transformations for text processing and embedding\n",
    "pipeline = IngestionPipeline(\n",
    "    transformations=[\n",
    "        SentenceSplitter(chunk_size=50, chunk_overlap=0),\n",
    "        TitleExtractor(),\n",
    "        OpenAIEmbedding(),\n",
    "    ]\n",
    ")\n",
    "\n",
    "# Run the pipeline to generate nodes with embeddings from the document\n",
    "nodes = pipeline.run(documents=[doc])\n",
    "\n",
    "# Add embeddings and document text to the Chroma collection\n",
    "for node in nodes:\n",
    "    unique_id = str(uuid.uuid4())  # Generate a unique ID for each chunk\n",
    "    collection.add(ids=[unique_id], embeddings=[node.embedding], documents=[node.text])\n",
    "\n",
    "# Function to generate embedding for the query text using the pipeline\n",
    "def generate_query_embedding(query_text):\n",
    "    # Create a document for the query text\n",
    "    query_doc = Document(text=query_text)\n",
    "    # Run it through the pipeline\n",
    "    query_nodes = pipeline.run(documents=[query_doc])\n",
    "    # Return the embedding from the first node\n",
    "    return query_nodes[0].embedding\n",
    "\n",
    "# Example retrieval: query for similar documents\n",
    "query_text = \"Effects of hydrochloric acid on human tissue\"\n",
    "query_embedding = generate_query_embedding(query_text)\n",
    "results = collection.query(embedding=query_embedding, top_k=2)\n",
    "\n",
    "# Display retrieved results\n",
    "for result in results['documents']:\n",
    "    print(f\"Retrieved Document: {result}\")\n"
   ]
  },
  {
   "cell_type": "code",
   "execution_count": null,
   "metadata": {},
   "outputs": [],
   "source": [
    "retriever = VectorIndexRetriever(\n",
    "    index=index,\n",
    "    similarity_top_k=2,\n",
    ")\n",
    "\n",
    "response_synthesizer = get_response_synthesizer(\n",
    "    response_mode=\"tree_summarize\",\n",
    "    verbose=True\n",
    ")\n",
    "\n",
    "pp = SimilarityPostprocessor(similarity_cutoff=0.5)"
   ]
  },
  {
   "cell_type": "code",
   "execution_count": null,
   "metadata": {},
   "outputs": [],
   "source": [
    "query_engine = RetrieverQueryEngine(\n",
    "    retriever=retriever,\n",
    "    response_synthesizer=response_synthesizer,\n",
    "    node_postprocessors=[pp]\n",
    ")"
   ]
  },
  {
   "cell_type": "code",
   "execution_count": null,
   "metadata": {},
   "outputs": [],
   "source": [
    "response = query_engine.query(\n",
    "    \"Cats are cute, aren't they?\"\n",
    ")\n",
    "print(response)"
   ]
  }
 ],
 "metadata": {
  "kernelspec": {
   "display_name": "aio_env",
   "language": "python",
   "name": "python3"
  },
  "language_info": {
   "codemirror_mode": {
    "name": "ipython",
    "version": 3
   },
   "file_extension": ".py",
   "mimetype": "text/x-python",
   "name": "python",
   "nbconvert_exporter": "python",
   "pygments_lexer": "ipython3",
   "version": "3.11.9"
  }
 },
 "nbformat": 4,
 "nbformat_minor": 2
}
